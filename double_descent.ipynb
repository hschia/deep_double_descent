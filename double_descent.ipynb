{
 "cells": [
  {
   "cell_type": "markdown",
   "id": "07d8f264-f876-4bae-8b75-bd075ec6b9ae",
   "metadata": {},
   "source": [
    "## Deep Double Descent"
   ]
  },
  {
   "cell_type": "code",
   "execution_count": 2,
   "id": "13164f14-58ee-4f7f-9be9-4255078f63db",
   "metadata": {},
   "outputs": [
    {
     "name": "stdout",
     "output_type": "stream",
     "text": [
      "GPU available: True\n"
     ]
    }
   ],
   "source": [
    "import numpy as np\n",
    "import matplotlib.pyplot as plt\n",
    "import math\n",
    "import pickle\n",
    "import json\n",
    "import yaml\n",
    "import os\n",
    "from collections import OrderedDict\n",
    "\n",
    "import torch\n",
    "from torch import nn\n",
    "from torch.utils import data\n",
    "\n",
    "import torchvision\n",
    "from torchvision import transforms\n",
    "\n",
    "from IPython import display\n",
    "\n",
    "print(f'GPU available: {torch.cuda.is_available()}')"
   ]
  },
  {
   "cell_type": "markdown",
   "id": "eba3d58d-22ba-4875-86a2-67b6db4e567f",
   "metadata": {
    "jp-MarkdownHeadingCollapsed": true,
    "tags": []
   },
   "source": [
    "### Setup"
   ]
  },
  {
   "cell_type": "code",
   "execution_count": 2,
   "id": "bbcb00d4-d920-4f0e-8e80-f0150af97ed2",
   "metadata": {},
   "outputs": [],
   "source": [
    "def training_set_labelnoise(train_data, noise_ratio=0.2):\n",
    "    \n",
    "    # create deepcopy\n",
    "    import copy\n",
    "    noisy = copy.deepcopy(train_data)\n",
    "    noisy.data = copy.deepcopy(train_data.data)\n",
    "    noisy.targets = copy.deepcopy(train_data.targets)\n",
    "    \n",
    "    n_classes = len(noisy.classes)\n",
    "    targets = noisy.targets\n",
    "    targets_set = targets.unique()\n",
    "    \n",
    "    # generate mislabels for each cls\n",
    "    for cls in range(n_classes):\n",
    "        \n",
    "        cls_mask = (targets == cls)\n",
    "        targets_filtered = np.array(targets[cls_mask])\n",
    "        \n",
    "        wrong_target_cls = [x for x in targets_set if x != cls] # labels other than cls\n",
    "        n_mislabels = int(len(targets_filtered)*noise_ratio) # number of mislabels for cls\n",
    "        \n",
    "        wrong_targets = np.random.choice(wrong_target_cls, size=n_mislabels)\n",
    "        random_boolean = np.random.permutation([True]*n_mislabels + [False]*(len(targets_filtered) - n_mislabels))\n",
    "        targets_filtered[random_boolean] = wrong_targets\n",
    "        targets[cls_mask] = torch.tensor(targets_filtered)\n",
    "        \n",
    "    noisy.targets = targets\n",
    "    \n",
    "    return noisy\n",
    "\n",
    "def load_data_fashion_mnist(batch_size, resize=None, num_workers=8):\n",
    "    \n",
    "    # Use [] iterable because we use transform.Compose and possibly insert below\n",
    "    trans = [transforms.ToTensor()]\n",
    "    if resize:\n",
    "        trans.insert(0, transforms.Resize(resize)) # Add resizing as optional transformation\n",
    "    trans = transforms.Compose(trans)\n",
    "    mnist_train = torchvision.datasets.FashionMNIST(\n",
    "        root='../data', train=True, transform=trans, download=True, target_transform=None)\n",
    "    mnist_test = torchvision.datasets.FashionMNIST(\n",
    "        root='../data', train=False, transform=trans, download=True, target_transform=None)\n",
    "    return (data.DataLoader(mnist_train, batch_size, shuffle=True, num_workers=num_workers),\n",
    "            data.DataLoader(mnist_test, batch_size, shuffle=True, num_workers=num_workers)\n",
    "           )\n",
    "\n",
    "def load_data_mnist(batch_size, train_size=None, test_size=None, label_noise=False, noise_ratio=0.2, resize=None, num_workers=8):\n",
    "    \n",
    "    # Use [] iterable because we use transform.Compose and possibly insert below\n",
    "    trans = [transforms.ToTensor()]\n",
    "    if resize:\n",
    "        trans.insert(0, transforms.Resize(resize)) # Add resizing as optional transformation\n",
    "    trans = transforms.Compose(trans)\n",
    "    \n",
    "    mnist_train = torchvision.datasets.MNIST(\n",
    "        root='../data', train=True, transform=trans, download=True, target_transform=None)\n",
    "    mnist_test = torchvision.datasets.MNIST(\n",
    "        root='../data', train=False, transform=trans, download=True, target_transform=None)\n",
    "    \n",
    "    if label_noise:\n",
    "        mnist_train = training_set_labelnoise(mnist_train, noise_ratio=noise_ratio)\n",
    "    \n",
    "    if train_size is not None:\n",
    "        indices = np.random.choice(len(mnist_train), size=train_size, replace=False)\n",
    "        mnist_train = data.Subset(mnist_train, indices)\n",
    "        \n",
    "    if test_size is not None:\n",
    "        indices = np.random.choice(len(mnist_test), size=test_size, replace=False)\n",
    "        mnist_test = data.Subset(mnist_test, indices)\n",
    "    \n",
    "    return (data.DataLoader(mnist_train, batch_size, shuffle=True, num_workers=num_workers),\n",
    "            data.DataLoader(mnist_test, batch_size, shuffle=True, num_workers=num_workers)\n",
    "           )\n",
    "\n",
    "def try_gpu():\n",
    "    if torch.cuda.is_available():\n",
    "        return torch.device('cuda:0')\n",
    "    else:\n",
    "        return torch.device('cpu')"
   ]
  },
  {
   "cell_type": "code",
   "execution_count": 3,
   "id": "7e977eef-5dbd-4b41-8cde-402887e460ed",
   "metadata": {},
   "outputs": [],
   "source": [
    "def set_axes(axes, xlabel, ylabel, xlim, ylim, xscale, yscale, legend, title):\n",
    "    \"\"\"Set the axes for matplotlib.\"\"\"\n",
    "    axes.set_xlabel(xlabel)\n",
    "    axes.set_ylabel(ylabel)\n",
    "    axes.set_xscale(xscale)\n",
    "    axes.set_yscale(yscale)\n",
    "    axes.set_xlim(xlim)\n",
    "    axes.set_ylim(ylim)\n",
    "    axes.set_title(title)\n",
    "    if legend:\n",
    "        axes.legend(legend)\n",
    "    axes.grid()\n",
    "\n",
    "class Animator:\n",
    "    \"\"\"For plotting data in animation.\"\"\"\n",
    "    def __init__(self, xlabel=None, ylabel=None, legend=None, xlim=None,\n",
    "                 ylim=None, title=None, xscale='linear', yscale='log',\n",
    "                 fmts=('-', 'm--', 'g-.', 'r:'), nrows=1, ncols=1,\n",
    "                 figsize=(3.5, 2.5)):\n",
    "        # Incrementally plot multiple lines\n",
    "        if legend is None:\n",
    "            legend = []\n",
    "        display.set_matplotlib_formats('svg')\n",
    "        self.fig, self.axes = plt.subplots(nrows, ncols, figsize=figsize)\n",
    "        if nrows * ncols == 1:\n",
    "            self.axes = [self.axes,]\n",
    "        # Use a lambda function to capture arguments\n",
    "        self.config_axes = lambda: set_axes(self.axes[\n",
    "            0], xlabel, ylabel, xlim, ylim, xscale, yscale, legend, title)\n",
    "        self.X, self.Y, self.fmts = None, None, fmts\n",
    "\n",
    "    def add(self, x, y):\n",
    "        # Add multiple data points into the figure\n",
    "        if not hasattr(y, \"__len__\"):\n",
    "            y = [y]\n",
    "        n = len(y)\n",
    "        if not hasattr(x, \"__len__\"):\n",
    "            x = [x] * n\n",
    "        if not self.X:\n",
    "            self.X = [[] for _ in range(n)]\n",
    "        if not self.Y:\n",
    "            self.Y = [[] for _ in range(n)]\n",
    "        for i, (a, b) in enumerate(zip(x, y)):\n",
    "            if a is not None and b is not None:\n",
    "                self.X[i].append(a)\n",
    "                self.Y[i].append(b)\n",
    "        self.axes[0].cla()\n",
    "        for x, y, fmt in zip(self.X, self.Y, self.fmts):\n",
    "            self.axes[0].plot(x, y, fmt)\n",
    "        self.config_axes()\n",
    "        display.display(self.fig)\n",
    "        display.clear_output(wait=True)\n",
    "\n",
    "class Accumulator:\n",
    "    def __init__(self, n):\n",
    "        self.data = [0.0]*n\n",
    "        \n",
    "    def add(self, *args):\n",
    "        self.data = [a + b for a, b in zip(self.data, args)]\n",
    "        \n",
    "    def __getitem__(self, idx):\n",
    "        return self.data[idx]\n",
    "\n",
    "def train(net, train_iter, test_iter, num_epochs, loss, optimizer, device):\n",
    "    \n",
    "    # initialize weights\n",
    "    def init_weights(m):\n",
    "        if type(m) == nn.Linear or type(m) == nn.Conv2d:\n",
    "            nn.init.kaiming_normal_(m.weight)\n",
    "    net.apply(init_weights)\n",
    "    \n",
    "    # setup\n",
    "    # optimizer = torch.optim.AdamW(net.parameters(), lr=lr)\n",
    "    # loss = nn.CrossEntropyLoss()\n",
    "    num_batches = len(train_iter)\n",
    "    net.to(device)\n",
    "    \n",
    "    animator = Animator(xlabel='epoch', xlim=[1, num_epochs],\n",
    "                            legend=['train loss', 'test loss'], title=f'hidden layer: {net[1]}')\n",
    "    \n",
    "    train_loss_ls, test_loss_ls = [], []\n",
    "    for epoch in range(num_epochs):\n",
    "        \n",
    "        # train loop\n",
    "        net.train()\n",
    "        metric_train = Accumulator(2)\n",
    "        for batch, (X, y) in enumerate(train_iter, 1):\n",
    "            optimizer.zero_grad()\n",
    "            X, y = X.to(device), y.to(device)\n",
    "            yhat = net(X)\n",
    "            l = loss(yhat, y)\n",
    "            l.backward()\n",
    "            optimizer.step()\n",
    "            \n",
    "            with torch.no_grad():\n",
    "                metric_train.add(l*y.numel(), y.numel())\n",
    "            train_loss = metric_train[0]/metric_train[1]\n",
    "            train_loss_ls.append(train_loss)\n",
    "                \n",
    "        # test loop\n",
    "        net.eval()\n",
    "        metric_test = Accumulator(2)\n",
    "        for X, y in test_iter:\n",
    "            with torch.no_grad():\n",
    "                X, y = X.to(device), y.to(device)\n",
    "                yhat = net(X)\n",
    "                l = loss(yhat, y)\n",
    "                metric_test.add(l*y.numel(), y.numel())\n",
    "                \n",
    "                test_loss = metric_test[0]/metric_test[1]\n",
    "                test_loss_ls.append(test_loss)\n",
    "                \n",
    "        animator.add(epoch+1, (train_loss, test_loss))\n",
    "    \n",
    "    return animator, train_loss_ls, test_loss_ls"
   ]
  },
  {
   "cell_type": "code",
   "execution_count": null,
   "id": "82d2bda9-5b62-45e3-abf7-7f8d6ac512f0",
   "metadata": {},
   "outputs": [],
   "source": []
  },
  {
   "cell_type": "markdown",
   "id": "3391b3a5-ea63-4d4e-8b74-ee722b24b522",
   "metadata": {
    "jp-MarkdownHeadingCollapsed": true,
    "tags": []
   },
   "source": [
    "### Submit Parallel Jobs with run_model.py"
   ]
  },
  {
   "cell_type": "code",
   "execution_count": 192,
   "id": "342f2867-4567-40e8-8b70-c5d227377ece",
   "metadata": {},
   "outputs": [
    {
     "data": {
      "text/plain": [
       "([60,\n",
       "  70,\n",
       "  80,\n",
       "  90,\n",
       "  100,\n",
       "  150,\n",
       "  200,\n",
       "  250,\n",
       "  300,\n",
       "  350,\n",
       "  400,\n",
       "  450,\n",
       "  500,\n",
       "  600,\n",
       "  700,\n",
       "  800,\n",
       "  900,\n",
       "  1000],\n",
       " 18)"
      ]
     },
     "execution_count": 192,
     "metadata": {},
     "output_type": "execute_result"
    }
   ],
   "source": [
    "d_hiddens = [60,70,80,90,100,150,200,250,300,350,400,450,500,600,700,800,900,1000]\n",
    "d_hiddens, len(d_hiddens)"
   ]
  },
  {
   "cell_type": "code",
   "execution_count": 193,
   "id": "a1656948-0f5c-4180-b51b-1f32f423cf4d",
   "metadata": {},
   "outputs": [
    {
     "name": "stdout",
     "output_type": "stream",
     "text": [
      "Submitted batch job 6010568\n",
      "Submitted batch job 6010569\n",
      "Submitted batch job 6010570\n",
      "Submitted batch job 6010571\n",
      "Submitted batch job 6010572\n",
      "Submitted batch job 6010573\n",
      "Submitted batch job 6010574\n",
      "Submitted batch job 6010575\n",
      "Submitted batch job 6010576\n",
      "Submitted batch job 6010577\n",
      "Submitted batch job 6010578\n",
      "Submitted batch job 6010579\n",
      "Submitted batch job 6010580\n",
      "Submitted batch job 6010581\n",
      "Submitted batch job 6010582\n",
      "Submitted batch job 6010583\n",
      "Submitted batch job 6010584\n",
      "Submitted batch job 6010585\n"
     ]
    }
   ],
   "source": [
    "# for d_hidden in d_hiddens:\n",
    "#     ! sbatch run_model.sh {d_hidden}"
   ]
  },
  {
   "cell_type": "code",
   "execution_count": null,
   "id": "5c4363bc-ba96-42f2-9972-3bb8e2976c3e",
   "metadata": {},
   "outputs": [],
   "source": []
  },
  {
   "cell_type": "markdown",
   "id": "a33084d5-7e8d-4152-ba93-8581c517ab62",
   "metadata": {},
   "source": [
    "### Results"
   ]
  },
  {
   "cell_type": "code",
   "execution_count": 12,
   "id": "5c90059b-8aa5-44a4-a923-cbe80aca8452",
   "metadata": {},
   "outputs": [
    {
     "data": {
      "text/plain": [
       "<matplotlib.legend.Legend at 0x7fc86e3896a0>"
      ]
     },
     "execution_count": 12,
     "metadata": {},
     "output_type": "execute_result"
    },
    {
     "data": {
      "image/png": "[encoded data removed]",
      "text/plain": [
       "<Figure size 864x432 with 1 Axes>"
      ]
     },
     "metadata": {
      "needs_background": "light"
     },
     "output_type": "display_data"
    }
   ],
   "source": [
    "# Label noise is critical for double descent!\n",
    "with open('./mnist_train2000_test10000_epoch500_labelnoise30/data.pkl', 'rb') as f:\n",
    "    tmp = pickle.load(f)\n",
    "    \n",
    "tmp = dict(sorted(tmp.items()))\n",
    "end_ind = 45\n",
    "\n",
    "params = np.array(list(tmp.keys()))[:end_ind]\n",
    "train_errs = np.array(list(tmp.values()))[:,0][:end_ind]\n",
    "test_errs = np.array(list(tmp.values()))[:,1][:end_ind]\n",
    "\n",
    "fig = plt.figure(figsize=(12,6))\n",
    "plt.plot(params, train_errs, label='train error')\n",
    "plt.plot(params, test_errs, label='test error')\n",
    "plt.xlabel('hidden dimensions')\n",
    "plt.ylabel('cross entropy loss')\n",
    "plt.vlines(25, 0.0, 1.75, linestyles='--', color='k')\n",
    "plt.legend()"
   ]
  },
  {
   "cell_type": "code",
   "execution_count": 13,
   "id": "0aa3aba2-bbdd-460d-a7be-eb88cf03d9bf",
   "metadata": {},
   "outputs": [],
   "source": [
    "fig.savefig('double_descent.png', bbox_inches='tight')"
   ]
  },
  {
   "cell_type": "code",
   "execution_count": null,
   "id": "1cdba0f3-1f62-48c0-b7c4-6ce8a8904098",
   "metadata": {},
   "outputs": [],
   "source": []
  }
 ],
 "metadata": {
  "kernelspec": {
   "display_name": "Python 3 (ipykernel)",
   "language": "python",
   "name": "python3"
  },
  "language_info": {
   "codemirror_mode": {
    "name": "ipython",
    "version": 3
   },
   "file_extension": ".py",
   "mimetype": "text/x-python",
   "name": "python",
   "nbconvert_exporter": "python",
   "pygments_lexer": "ipython3",
   "version": "3.9.7"
  }
 },
 "nbformat": 4,
 "nbformat_minor": 5
}
